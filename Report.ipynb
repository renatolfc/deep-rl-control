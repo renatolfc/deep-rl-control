{
 "cells": [
  {
   "cell_type": "markdown",
   "metadata": {},
   "source": [
    "# Reinforcement Learning for Continuous Control\n",
    "\n",
    "---\n",
    "\n",
    "This notebook describes the implementation of the Deep Reinforcement Learning agent used to solve the second project of the [Deep Reinforcement Learning Nanodegree](https://www.udacity.com/course/deep-reinforcement-learning-nanodegree--nd893).\n",
    "\n",
    "This notebook also serves as live and executable documentation. Therefore, there will be a little bit of code and modules imported.\n",
    "\n",
    "Nevertheless, all the *important* stuff is implemented in the [deeprl](deeprl/) package. So, you are encouraged to take a look at that package as well. A fully trained agent should perform as in the video below (if the video doesn't show automatically, execute the cell manually)."
   ]
  },
  {
   "cell_type": "code",
   "execution_count": 1,
   "metadata": {},
   "outputs": [
    {
     "data": {
      "text/html": [
       "<iframe width=\"560\" height=\"315\"\n",
       " src=\"https://www.youtube.com/embed/B4JKTivr4qA\"\n",
       "    frameborder=\"0\"\n",
       "    allow=\"autoplay; encrypted-media\" allowfullscreen>\n",
       "</iframe>"
      ],
      "text/plain": [
       "<IPython.core.display.HTML object>"
      ]
     },
     "metadata": {},
     "output_type": "display_data"
    }
   ],
   "source": [
    "%%HTML\n",
    "<iframe width=\"560\" height=\"315\"\n",
    " src=\"https://www.youtube.com/embed/B4JKTivr4qA\"\n",
    "    frameborder=\"0\"\n",
    "    allow=\"autoplay; encrypted-media\" allowfullscreen>\n",
    "</iframe>"
   ]
  },
  {
   "cell_type": "markdown",
   "metadata": {},
   "source": [
    "## 1. Loading necessary packages\n",
    "\n",
    "We begin by importing some necessary packages.  If the code cell below returns an error, please revisit the [README](README.md) instructions to double-check that you have installed [Unity ML-Agents](https://github.com/Unity-Technologies/ml-agents/blob/master/docs/Installation.md), [NumPy](http://www.numpy.org/), and [PyTorch](http://pytorch.org).\n",
    "\n",
    "If you are running a Windows system, please pay special attention to the README, as the code **will not** be able to automatically execute the environment."
   ]
  },
  {
   "cell_type": "code",
   "execution_count": 1,
   "metadata": {},
   "outputs": [],
   "source": [
    "%matplotlib inline\n",
    "%config InlineBackend.figure_format = 'retina'\n",
    "\n",
    "import numpy as np\n",
    "import matplotlib.pyplot as plt\n",
    "\n",
    "from deeprl.train import ddpg\n",
    "from deeprl.agent import DDPGAgent\n",
    "from deeprl.model import DDPGActor, DDPGCritic\n",
    "\n",
    "from deeprl.util import print_source\n",
    "from deeprl.util import load_environment"
   ]
  },
  {
   "cell_type": "markdown",
   "metadata": {},
   "source": [
    "## 2. The algorithm\n",
    "\n",
    "As aforementioned, this code uses Deep Reinforcement Learning to solve the environment. In particular, we use the Deep Deterministic Policy Gradient (DDPG) algorithm. This algorithm can be seen as an extension of the Deep Q Networks (DQN) algorithm for continuous action spaces.\n",
    "\n",
    "DDPG uses *experience replay* and *fixed Q-targets* to be able to \"stabilize\" the learning process and an actor-critic-ish setup. Overall, the algorithm is:\n",
    "\n",
    " * Take action $a_t = \\mu(s_t, | \\theta^\\mu) + \\mathcal{N}_t$ according to the current policy and exploration noise\n",
    " * Store transition $(s_t, a_t, r_{t+1}, s_{t+1})$ in replay memory $\\mathcal{D}$\n",
    " * Sample random mini-batch of transitions $(s, a, r, s')$ from $\\mathcal{D}$\n",
    " * Set $y_i = r_i + \\gamma Q'(s_{i+1}, \\mu'(s_{i+1}|\\theta^{\\mu'})|\\theta^{Q'})$\n",
    " * Update critic by minimizing the loss: $\\mathcal{L}=\\frac{1}{N}\\sum_i\\left(y_i-Q(s_i, a_i|\\theta^Q)\\right)^2$\n",
    " * Update the actor policy using the sampled policy gradient:\n",
    "$$\n",
    "\\nabla_{\\theta^\\mu}J\\approx\\frac{1}{N}\\sum_i\\nabla_a Q(s, a | \\theta^Q)|_{s=s_i,a=\\mu(s_i)}\\nabla_{\\theta^\\mu}\\mu(s|\\theta^\\mu)|_{s_i}\n",
    "$$\n",
    " * Update the target networks:\n",
    "$$\n",
    "\\theta^{Q'} \\leftarrow \\tau\\theta^Q + (1-\\tau)\\theta^{Q'}\\\\\n",
    "\\theta^{\\mu'} \\leftarrow \\tau\\theta^\\mu + (1-\\tau)\\theta^{\\mu'}\n",
    "$$\n",
    "\n",
    "### 2.1 The optimizer\n",
    "\n",
    "The variant of stochastic gradient descent we use is the [Adam optimization algorithm](https://arxiv.org/abs/1412.6980).\n",
    "\n",
    "### 2.2 The network architecture\n",
    "\n",
    "For this problem, we're using three-layer fully-connected neural networks for both the actor and the critic."
   ]
  },
  {
   "cell_type": "code",
   "execution_count": 2,
   "metadata": {},
   "outputs": [
    {
     "data": {
      "text/markdown": [
       "```python\n",
       "    def __init__(self, state_size, action_size, seed, fc1_units=400, fc2_units=300):\n",
       "        \"\"\"Initialize parameters and build model.\n",
       "        Params\n",
       "        ======\n",
       "            state_size (int): Dimension of each state\n",
       "            action_size (int): Dimension of each action\n",
       "            seed (int): Random seed\n",
       "            fc1_units (int): Number of nodes in first hidden layer\n",
       "            fc2_units (int): Number of nodes in second hidden layer\n",
       "        \"\"\"\n",
       "        super(DDPGActor, self).__init__()\n",
       "        self.seed = torch.manual_seed(seed)\n",
       "        self.fc1 = nn.Linear(state_size, fc1_units)\n",
       "        self.fc2 = nn.Linear(fc1_units, fc2_units)\n",
       "        self.fc3 = nn.Linear(fc2_units, action_size)\n",
       "        self.reset_parameters()\n",
       "\n",
       "```"
      ],
      "text/plain": [
       "<IPython.core.display.Markdown object>"
      ]
     },
     "metadata": {},
     "output_type": "display_data"
    },
    {
     "data": {
      "text/markdown": [
       "```python\n",
       "    def forward(self, state):\n",
       "        \"\"\"Build an actor (policy) network that maps states -> actions.\"\"\"\n",
       "        x = F.relu(self.fc1(state))\n",
       "        x = F.relu(self.fc2(x))\n",
       "        return F.tanh(self.fc3(x))\n",
       "\n",
       "```"
      ],
      "text/plain": [
       "<IPython.core.display.Markdown object>"
      ]
     },
     "metadata": {},
     "output_type": "display_data"
    }
   ],
   "source": [
    "print_source(DDPGActor.__init__)\n",
    "print_source(DDPGActor.forward)"
   ]
  },
  {
   "cell_type": "code",
   "execution_count": 3,
   "metadata": {},
   "outputs": [
    {
     "data": {
      "text/markdown": [
       "```python\n",
       "    def __init__(self, state_size, action_size, seed, fcs1_units=400, fc2_units=300):\n",
       "        \"\"\"Initialize parameters and build model.\n",
       "        Params\n",
       "        ======\n",
       "            state_size (int): Dimension of each state\n",
       "            action_size (int): Dimension of each action\n",
       "            seed (int): Random seed\n",
       "            fcs1_units (int): Number of nodes in the first hidden layer\n",
       "            fc2_units (int): Number of nodes in the second hidden layer\n",
       "        \"\"\"\n",
       "        super(DDPGCritic, self).__init__()\n",
       "        self.seed = torch.manual_seed(seed)\n",
       "        self.fcs1 = nn.Linear(state_size, fcs1_units)\n",
       "        self.fc2 = nn.Linear(fcs1_units + action_size, fc2_units)\n",
       "        self.fc3 = nn.Linear(fc2_units, 1)\n",
       "        self.reset_parameters()\n",
       "\n",
       "```"
      ],
      "text/plain": [
       "<IPython.core.display.Markdown object>"
      ]
     },
     "metadata": {},
     "output_type": "display_data"
    },
    {
     "data": {
      "text/markdown": [
       "```python\n",
       "    def forward(self, state, action):\n",
       "        \"\"\"Build a critic (value) network that maps (state, action) pairs -> Q-values.\"\"\"\n",
       "        xs = F.relu(self.fcs1(state))\n",
       "        x = torch.cat((xs, action), dim=1)\n",
       "        x = F.relu(self.fc2(x))\n",
       "        return self.fc3(x)\n",
       "\n",
       "```"
      ],
      "text/plain": [
       "<IPython.core.display.Markdown object>"
      ]
     },
     "metadata": {},
     "output_type": "display_data"
    }
   ],
   "source": [
    "print_source(DDPGCritic.__init__)\n",
    "print_source(DDPGCritic.forward)"
   ]
  },
  {
   "cell_type": "markdown",
   "metadata": {},
   "source": [
    "### 2.3 The actual learning algorithm\n",
    "\n",
    "With the textual description given above and having the network and optimizer defined, one can devise a learning algorithm written in PyTorch.  The algorithm can be implemented as below (again, the reader is encouraged to read the [full source](deeprl/agent.py)).\n",
    "\n",
    "Notice that we *do not* fully transition the local weights $w$ to the $w^-$ weights. Rather, we perform a *soft* update, controlled by hyperparameter $\\tau$. This allows us to slowly transition from set of weights to the other, giving more smooth operation to the algorithm."
   ]
  },
  {
   "cell_type": "code",
   "execution_count": 4,
   "metadata": {},
   "outputs": [
    {
     "data": {
      "text/markdown": [
       "```python\n",
       "    def learn(self, experiences, gamma=GAMMA, tau=TAU):\n",
       "        \"\"\"Update policy and value parameters using given batch of experience tuples.\n",
       "        Q_targets = r + γ * critic_target(next_state, actor_target(next_state))\n",
       "        where:\n",
       "            actor_target(state) -> action\n",
       "            critic_target(state, action) -> Q-value\n",
       "\n",
       "        :param experiences (Tuple[torch.Tensor]): tuple of (s, a, r, s', done) tuples\n",
       "        :param gamma (float): discount factor\n",
       "        \"\"\"\n",
       "        states, actions, rewards, next_states, dones = experiences\n",
       "\n",
       "        # ---------------------------- update critic ---------------------------- #\n",
       "        # Get predicted next-state actions and Q values from target models\n",
       "        actions_next = self.actor_target(next_states)\n",
       "        Q_targets_next = self.critic_target(next_states, actions_next)\n",
       "        # Compute Q targets for current states (y_i)\n",
       "        Q_targets = rewards + (gamma * Q_targets_next * (1 - dones))\n",
       "        # Compute critic loss\n",
       "        Q_expected = self.critic_local(states, actions)\n",
       "        critic_loss = F.mse_loss(Q_expected, Q_targets)\n",
       "        # Minimize the loss\n",
       "        self.critic_optimizer.zero_grad()\n",
       "        critic_loss.backward()\n",
       "        torch.nn.utils.clip_grad_norm(self.critic_local.parameters(), 1)\n",
       "        self.critic_optimizer.step()\n",
       "\n",
       "        # ---------------------------- update actor ---------------------------- #\n",
       "        # Compute actor loss\n",
       "        actions_pred = self.actor_local(states)\n",
       "        actor_loss = -self.critic_local(states, actions_pred).mean()\n",
       "        # Minimize the loss\n",
       "        self.actor_optimizer.zero_grad()\n",
       "        actor_loss.backward()\n",
       "        self.actor_optimizer.step()\n",
       "\n",
       "        # ----------------------- update target networks ----------------------- #\n",
       "        self.soft_update(self.critic_local, self.critic_target, tau)\n",
       "        self.soft_update(self.actor_local, self.actor_target, tau)\n",
       "\n",
       "```"
      ],
      "text/plain": [
       "<IPython.core.display.Markdown object>"
      ]
     },
     "metadata": {},
     "output_type": "display_data"
    }
   ],
   "source": [
    "print_source(DDPGAgent.learn)"
   ]
  },
  {
   "cell_type": "markdown",
   "metadata": {},
   "source": [
    "### 2.4 Hyperparameters\n",
    "\n",
    "As can be seen above, the algorithm has many hyperparameters. The set of hyperparameters used are:\n",
    "\n",
    " * $\\gamma = 0.99$ (Discount factor)\n",
    " * $\\tau = 1\\times10^{-3}$ (Network soft-update parameter)\n",
    " * $\\alpha = 1\\times10^{-3}$ (Actor learning rate)\n",
    " * $\\beta = 1\\times10^{-3}$ (Actor learning rate)\n",
    " * Batch size = 128\n",
    " * $|\\mathcal{D}| = 1\\times10^{5}$ (Size of the replay buffer)\n",
    " * Period between target updates = 2 (every 2 episodes we perform the soft update\n",
    " * Number of updates: 1\n",
    " \n",
    "## 3 Training and evaluation\n",
    "\n",
    "We have decided to train and evaluate the technique using 20 different Reacher agents. To do so, we instantiated 20 *different* DDPG networks to train the agents. All networks shared the same memory buffer, but had independent weights.\n",
    "\n",
    "After each episode, we computed the cumulative rewards of all the agents in that episode and too its average. This gave us the current score given below.\n",
    "\n",
    "We also kept a moving average of the aforementioned metric over 100 episodes, which is what we call the \"average\" score.\n",
    "\n",
    "This is in line with the specification of the environment:\n",
    "\n",
    "> The barrier for solving the second version of the environment is slightly different, to take into account the presence of many agents. In particular, your agents must get an average score of +30 (over 100 consecutive episodes, and over all agents).\n",
    "\n",
    "> Specifically, After each episode, we add up the rewards that each agent received (without discounting), to get a score for each agent. This yields 20 (potentially different) scores. We then take the average of these 20 scores. This yields an average score for each episode (where the average is over all 20 agents).\n",
    "\n",
    "\n",
    "### 3.1 Training\n",
    "\n",
    "With all of the above defined, we can train our agent. Training is performed by the `ddpg` function, shown below.\n",
    "\n",
    "What it does, essentially, is to load the environment, configure the agent with the environment parameters, and execute the learning process.\n",
    "\n",
    "The optimization criterion we're using is achieving an average reward for all agents greater than 30 over 100 episodes."
   ]
  },
  {
   "cell_type": "code",
   "execution_count": 5,
   "metadata": {},
   "outputs": [
    {
     "data": {
      "text/markdown": [
       "```python\n",
       "def ddpg(env, n_episodes=2000, max_t=1000, checkpointfn='checkpoint.pth', load_checkpoint=False,\n",
       "         update_every=2, n_updates=1, solution_threshold=30.0):\n",
       "    '''Runs DDPG in an environment'''\n",
       "\n",
       "    brain_name = env.brain_names[0]\n",
       "    brain = env.brains[brain_name]\n",
       "    env_info = env.reset(train_mode=True)[brain_name]\n",
       "\n",
       "    action_size = brain.vector_action_space_size\n",
       "    n_agents = len(env_info.agents)\n",
       "    states = get_state(env_info, n_agents=n_agents)\n",
       "    state_size = len(states) if n_agents == 1 else len(states[0])\n",
       "\n",
       "    if load_checkpoint:\n",
       "        try:\n",
       "            agents = [Agent.load(checkpointfn) for _ in range(n_agents)]\n",
       "        except Exception:\n",
       "            logging.exception('Failed to load checkpoint. Ignoring...')\n",
       "            agents = [Agent(state_size, action_size, 0) for _ in range(n_agents)]\n",
       "    else:\n",
       "        agents = [Agent(state_size, action_size, 0) for _ in range(n_agents)]\n",
       "\n",
       "    for i_episode in range(1, n_episodes + 1):\n",
       "        for agent in agents:\n",
       "            agent.episode += 1\n",
       "\n",
       "        env_info = env.reset(train_mode=True)[brain_name]\n",
       "        states = get_state(env_info, n_agents=n_agents)\n",
       "        scores = np.zeros(n_agents)\n",
       "\n",
       "        for t in range(max_t):\n",
       "            actions = np.vstack([agent.act(state) for agent, state in zip(agents, states)])\n",
       "\n",
       "            env_info = env.step(actions)[brain_name]\n",
       "            next_states = get_state(env_info, n_agents=n_agents)\n",
       "            rewards = env_info.rewards\n",
       "            dones = env_info.local_done\n",
       "\n",
       "            for i in range(n_agents):\n",
       "                agents[i].step(states[i], actions[i], rewards[i], next_states[i], dones[i], learning=False)\n",
       "\n",
       "            if len(agent.memory) > BATCH_SIZE and t and t % update_every == 0:\n",
       "                for i in range(n_agents):\n",
       "                    for j in range(n_updates):\n",
       "                        experiences = agents[i].memory.sample()\n",
       "                        agents[i].learn(experiences)\n",
       "\n",
       "            states = next_states\n",
       "            scores += rewards\n",
       "\n",
       "            if any(dones):\n",
       "                break\n",
       "\n",
       "        # Store scores for all agents\n",
       "        [agent.scores.append(score) for agent, score in zip(agents, scores)]\n",
       "\n",
       "        avg_score = np.mean([agent.scores[-100:] for agent in agents])\n",
       "\n",
       "        logging.debug(\n",
       "            'Episode {}\\tAverage Score: {:.3f}\\tCurrent (avg) Score: {:.3f}'\n",
       "                .format(i_episode, avg_score, np.mean(scores))\n",
       "        )\n",
       "\n",
       "        if i_episode % 100 == 0:\n",
       "            logging.info(\n",
       "                'Episode {}\\tAverage Score: {:.3f}'\n",
       "                    .format(i_episode, avg_score)\n",
       "            )\n",
       "            logging.info(\n",
       "                'Saving checkpoint file...'\n",
       "            )\n",
       "            [agent.save(checkpointfn % i) for i, agent in enumerate(agents)]\n",
       "\n",
       "        if np.mean(avg_score) >= solution_threshold:\n",
       "            logging.info(\n",
       "                'Environment solved in {:d} episodes!'\n",
       "                    .format(i_episode - 99)\n",
       "            )\n",
       "            logging.info(\n",
       "                'Saving checkpoint file at %s', checkpointfn\n",
       "            )\n",
       "            [agent.save(checkpointfn % i) for i, agent in enumerate(agents)]\n",
       "            if i_episode > 100:\n",
       "                break\n",
       "\n",
       "    return agents\n",
       "\n",
       "```"
      ],
      "text/plain": [
       "<IPython.core.display.Markdown object>"
      ]
     },
     "metadata": {},
     "output_type": "display_data"
    }
   ],
   "source": [
    "print_source(ddpg)"
   ]
  },
  {
   "cell_type": "markdown",
   "metadata": {},
   "source": [
    "### 3.2 Evaluation\n",
    "\n",
    "The model was trained previously in an offline non-Jupyter setting. It was invoked with code similar to the following:\n",
    "\n",
    "```python\n",
    "env = load_environment()\n",
    "agents = ddpg(env, checkpointfn='checkpoint-%d.pth')\n",
    "env.close()\n",
    "```\n",
    "\n",
    "In the cell below we load the log file generated by the training process and plot the agent's performance."
   ]
  },
  {
   "cell_type": "code",
   "execution_count": 10,
   "metadata": {},
   "outputs": [],
   "source": [
    "avgs = []\n",
    "curs = []\n",
    "with open('training.log') as fp:\n",
    "    for line in fp:\n",
    "        if 'Episode' not in line or 'DEBUG' not in line:\n",
    "            continue\n",
    "        line = line.split(':')\n",
    "        avgs.append(float(line[3].split()[0].strip()))\n",
    "        curs.append(float(line[-1].strip()))"
   ]
  },
  {
   "cell_type": "code",
   "execution_count": 11,
   "metadata": {},
   "outputs": [
    {
     "name": "stdout",
     "output_type": "stream",
     "text": [
      "DEBUG:root:Episode 1    Average Score: 0.572    Current (avg) Score: 0.572 \r\n",
      "DEBUG:root:Episode 2    Average Score: 0.575    Current (avg) Score: 0.578 \r\n",
      "DEBUG:root:Episode 3    Average Score: 0.636    Current (avg) Score: 0.758 \r\n",
      "DEBUG:root:Episode 4    Average Score: 0.677    Current (avg) Score: 0.800 \r\n",
      "DEBUG:root:Episode 5    Average Score: 0.707    Current (avg) Score: 0.828 \r\n",
      "DEBUG:root:Episode 6    Average Score: 0.703    Current (avg) Score: 0.681 \r\n",
      "DEBUG:root:Episode 7    Average Score: 0.697    Current (avg) Score: 0.660 \r\n",
      "DEBUG:root:Episode 8    Average Score: 0.697    Current (avg) Score: 0.695 \r\n",
      "DEBUG:root:Episode 9    Average Score: 0.698    Current (avg) Score: 0.712 \r\n",
      "DEBUG:root:Episode 10   Average Score: 0.720    Current (avg) Score: 0.913 \r\n"
     ]
    }
   ],
   "source": [
    "# For some perspective, the head of the log is shown below:\n",
    "!head training.log"
   ]
  },
  {
   "cell_type": "code",
   "execution_count": 12,
   "metadata": {},
   "outputs": [
    {
     "data": {
      "image/png": "[encoded data removed]",
      "text/plain": [
       "<Figure size 432x288 with 1 Axes>"
      ]
     },
     "metadata": {
      "image/png": {
       "height": 263,
       "width": 384
      },
      "needs_background": "light"
     },
     "output_type": "display_data"
    }
   ],
   "source": [
    "fig = plt.figure()\n",
    "plt.plot(np.arange(len(avgs)), avgs, linewidth=1.0, label='Average Score')\n",
    "plt.plot(np.arange(len(curs)), curs, linewidth=1.0, label='Current Score')\n",
    "plt.ylabel('Score')\n",
    "plt.xlabel('Episode #')\n",
    "plt.legend()\n",
    "plt.grid()\n",
    "plt.show()"
   ]
  },
  {
   "cell_type": "code",
   "execution_count": 13,
   "metadata": {},
   "outputs": [
    {
     "name": "stdout",
     "output_type": "stream",
     "text": [
      "DEBUG:root:Episode 266  Average Score: 29.868   Current (avg) Score: 31.835\r\n",
      "DEBUG:root:Episode 267  Average Score: 29.876   Current (avg) Score: 30.501\r\n",
      "DEBUG:root:Episode 268  Average Score: 29.896   Current (avg) Score: 31.195\r\n",
      "DEBUG:root:Episode 269  Average Score: 29.912   Current (avg) Score: 29.929\r\n",
      "DEBUG:root:Episode 270  Average Score: 29.934   Current (avg) Score: 31.232\r\n",
      "DEBUG:root:Episode 271  Average Score: 29.953   Current (avg) Score: 31.165\r\n",
      "DEBUG:root:Episode 272  Average Score: 29.984   Current (avg) Score: 31.466\r\n",
      "DEBUG:root:Episode 273  Average Score: 30.010   Current (avg) Score: 31.397\r\n",
      "INFO:root:Environment solved in 174 episodes!\r\n",
      "INFO:root:Saving checkpoint file at checkpoint-%d.pth\r\n"
     ]
    }
   ],
   "source": [
    "# The total number of episodes is shown below:\n",
    "!tail training.log"
   ]
  },
  {
   "cell_type": "markdown",
   "metadata": {},
   "source": [
    "## 4 Future ideas\n",
    "\n",
    "Although the agent exhibits decent performance learning the environment successfully, it can be greatly improved. Some of them are outlined below.\n",
    "\n",
    " * The very first thing to try would be to perform hyperparameter optimization, either by performing grid search or random search, or, more interestingly and more aligned with the techniques studied here: Bayesian Optimization! Properly tuned hyperparameters would probably improve the agent's performance\n",
    " * Orthogonal to hyperparameter optimization, other improvements would be:\n",
    "   * Implementing PPO\n",
    "   * Implementing TRPO (I'm particularly interested in this one)\n",
    " * The agent converges to the expected 30 performance quite slowly. A few changes in the model would probably help it learn."
   ]
  }
 ],
 "metadata": {
  "kernelspec": {
   "display_name": "Python 3",
   "language": "python",
   "name": "python3"
  },
  "language_info": {
   "codemirror_mode": {
    "name": "ipython",
    "version": 3
   },
   "file_extension": ".py",
   "mimetype": "text/x-python",
   "name": "python",
   "nbconvert_exporter": "python",
   "pygments_lexer": "ipython3",
   "version": "3.6.6"
  }
 },
 "nbformat": 4,
 "nbformat_minor": 2
}
